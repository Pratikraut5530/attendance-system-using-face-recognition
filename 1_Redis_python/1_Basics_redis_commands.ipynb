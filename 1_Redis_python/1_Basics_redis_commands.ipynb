{
 "cells": [
  {
   "cell_type": "code",
   "execution_count": 2,
   "id": "71720805-30bb-42ea-b9db-ab58d81f2579",
   "metadata": {},
   "outputs": [],
   "source": [
    "import redis"
   ]
  },
  {
   "cell_type": "code",
   "execution_count": 3,
   "id": "ca49d285-9d79-4eea-b629-6d667ffbce81",
   "metadata": {},
   "outputs": [],
   "source": [
    "r = redis.Redis(host=\"redis-13914.c322.us-east-1-2.ec2.cloud.redislabs.com\",\n",
    "                port=13914,\n",
    "                password='h9fng3OkGwuY1FxPHguTBZ8rVt6uCdrx'\n",
    "               )"
   ]
  },
  {
   "cell_type": "markdown",
   "id": "ae95f75f-d673-4516-81e0-24503f4a3de5",
   "metadata": {},
   "source": [
    "##Redis String\n",
    "- set\n",
    "- get"
   ]
  },
  {
   "cell_type": "code",
   "execution_count": 4,
   "id": "f54f41af-072d-47ff-9965-d8e272c8e03e",
   "metadata": {},
   "outputs": [
    {
     "data": {
      "text/plain": [
       "True"
      ]
     },
     "execution_count": 4,
     "metadata": {},
     "output_type": "execute_result"
    }
   ],
   "source": [
    "r.set(name='foo',value='bar')"
   ]
  },
  {
   "cell_type": "code",
   "execution_count": 5,
   "id": "c6ac7f3e-9ee3-445b-8edd-54d8efb8843c",
   "metadata": {},
   "outputs": [
    {
     "data": {
      "text/plain": [
       "b'bar'"
      ]
     },
     "execution_count": 5,
     "metadata": {},
     "output_type": "execute_result"
    }
   ],
   "source": [
    "r.get(name='foo')"
   ]
  },
  {
   "cell_type": "code",
   "execution_count": 6,
   "id": "b8a7a9a3-d38f-422b-9fbf-c03df11f5b70",
   "metadata": {},
   "outputs": [
    {
     "data": {
      "text/plain": [
       "[b'MESSAGE', b'KEY', b'foo']"
      ]
     },
     "execution_count": 6,
     "metadata": {},
     "output_type": "execute_result"
    }
   ],
   "source": [
    "r.keys()"
   ]
  },
  {
   "cell_type": "code",
   "execution_count": null,
   "id": "728443cb-ed10-4ef0-ac0f-47fb9ad79a6b",
   "metadata": {},
   "outputs": [],
   "source": []
  }
 ],
 "metadata": {
  "kernelspec": {
   "display_name": "Python 3 (ipykernel)",
   "language": "python",
   "name": "python3"
  },
  "language_info": {
   "codemirror_mode": {
    "name": "ipython",
    "version": 3
   },
   "file_extension": ".py",
   "mimetype": "text/x-python",
   "name": "python",
   "nbconvert_exporter": "python",
   "pygments_lexer": "ipython3",
   "version": "3.11.5"
  }
 },
 "nbformat": 4,
 "nbformat_minor": 5
}
