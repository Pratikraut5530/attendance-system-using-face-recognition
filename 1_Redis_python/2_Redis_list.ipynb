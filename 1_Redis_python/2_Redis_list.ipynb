{
 "cells": [
  {
   "cell_type": "code",
   "execution_count": 1,
   "id": "eb80d8ba-7cb3-420d-9612-5017d4b6b804",
   "metadata": {},
   "outputs": [],
   "source": [
    "import redis"
   ]
  },
  {
   "cell_type": "code",
   "execution_count": 2,
   "id": "94fc4dd6-2481-4df2-9cba-ee87bf418b8f",
   "metadata": {},
   "outputs": [],
   "source": [
    "r = redis.Redis(host=\"redis-13914.c322.us-east-1-2.ec2.cloud.redislabs.com\",\n",
    "                port=13914,\n",
    "                password='h9fng3OkGwuY1FxPHguTBZ8rVt6uCdrx'\n",
    "               )"
   ]
  },
  {
   "cell_type": "code",
   "execution_count": 4,
   "id": "10b8a9eb-a43b-4df1-8a43-e633ed179235",
   "metadata": {},
   "outputs": [
    {
     "data": {
      "text/plain": [
       "True"
      ]
     },
     "execution_count": 4,
     "metadata": {},
     "output_type": "execute_result"
    }
   ],
   "source": [
    "r.ping()"
   ]
  },
  {
   "cell_type": "markdown",
   "id": "34c3fb52-75c7-42fc-9a38-5a81391eaca9",
   "metadata": {},
   "source": [
    "Create a redis list\n"
   ]
  },
  {
   "cell_type": "code",
   "execution_count": 5,
   "id": "1b9a64ba-ad9e-403c-803d-034b0d4a7403",
   "metadata": {},
   "outputs": [
    {
     "data": {
      "text/plain": [
       "1"
      ]
     },
     "execution_count": 5,
     "metadata": {},
     "output_type": "execute_result"
    }
   ],
   "source": [
    "r.lpush('mylist','value_1') #this will create list with name mylist and value with value 1"
   ]
  },
  {
   "cell_type": "code",
   "execution_count": 7,
   "id": "24033891-e4e3-4c01-a299-f5a570b7747a",
   "metadata": {},
   "outputs": [
    {
     "data": {
      "text/plain": [
       "b'value_1'"
      ]
     },
     "execution_count": 7,
     "metadata": {},
     "output_type": "execute_result"
    }
   ],
   "source": [
    "#retrive index,irange\n",
    "r.lindex(name='mylist',index=0) #this will return value in zero index"
   ]
  },
  {
   "cell_type": "code",
   "execution_count": 9,
   "id": "2c68c003-260a-4d7c-aa7a-52774cd4addf",
   "metadata": {},
   "outputs": [
    {
     "data": {
      "text/plain": [
       "[b'value_1']"
      ]
     },
     "execution_count": 9,
     "metadata": {},
     "output_type": "execute_result"
    }
   ],
   "source": [
    "r.lrange(name='mylist',start=0,end=0) \n",
    "# this command will return all values in the given range"
   ]
  },
  {
   "cell_type": "code",
   "execution_count": 12,
   "id": "3d6fb247-2e61-4500-9c6e-86978a7cb7de",
   "metadata": {},
   "outputs": [
    {
     "data": {
      "text/plain": [
       "3"
      ]
     },
     "execution_count": 12,
     "metadata": {},
     "output_type": "execute_result"
    }
   ],
   "source": [
    "r.lpush('mylist','value_2') \n",
    "#always push the value from left side"
   ]
  },
  {
   "cell_type": "code",
   "execution_count": 13,
   "id": "23033b91-74c1-474d-8378-c350b5f2905f",
   "metadata": {},
   "outputs": [
    {
     "data": {
      "text/plain": [
       "[b'value_2', b'value_2', b'value_1']"
      ]
     },
     "execution_count": 13,
     "metadata": {},
     "output_type": "execute_result"
    }
   ],
   "source": [
    "r.lrange('mylist',0,-1)"
   ]
  },
  {
   "cell_type": "code",
   "execution_count": 15,
   "id": "453dcc31-fe56-4cce-a9a0-da7a69897459",
   "metadata": {},
   "outputs": [
    {
     "data": {
      "text/plain": [
       "5"
      ]
     },
     "execution_count": 15,
     "metadata": {},
     "output_type": "execute_result"
    }
   ],
   "source": [
    "##r push\n",
    "#push the value from right side\n",
    "r.rpush('mylist','value_3','value_4')"
   ]
  },
  {
   "cell_type": "code",
   "execution_count": 17,
   "id": "4edc9266-f20c-45f0-8bc5-782e90baabc6",
   "metadata": {},
   "outputs": [
    {
     "data": {
      "text/plain": [
       "[b'value_2', b'value_2', b'value_1', b'value_3', b'value_4']"
      ]
     },
     "execution_count": 17,
     "metadata": {},
     "output_type": "execute_result"
    }
   ],
   "source": [
    "r.lrange('mylist',0,-1)"
   ]
  },
  {
   "cell_type": "code",
   "execution_count": 18,
   "id": "3c79d15b-335c-42df-99ce-5f1051fa1a4e",
   "metadata": {},
   "outputs": [
    {
     "data": {
      "text/plain": [
       "0"
      ]
     },
     "execution_count": 18,
     "metadata": {},
     "output_type": "execute_result"
    }
   ],
   "source": [
    "#lpushx , rpushx\n",
    "r.lpushx('mylist1','somevalue')"
   ]
  },
  {
   "cell_type": "code",
   "execution_count": 19,
   "id": "d95b9986-f8ff-4d46-811b-c31c3c54a213",
   "metadata": {},
   "outputs": [
    {
     "data": {
      "text/plain": [
       "[]"
      ]
     },
     "execution_count": 19,
     "metadata": {},
     "output_type": "execute_result"
    }
   ],
   "source": [
    "r.lrange('mylist1',0,-1)"
   ]
  },
  {
   "cell_type": "code",
   "execution_count": 20,
   "id": "68744b29-7a3f-4cea-81bb-935353d26d00",
   "metadata": {},
   "outputs": [
    {
     "data": {
      "text/plain": [
       "6"
      ]
     },
     "execution_count": 20,
     "metadata": {},
     "output_type": "execute_result"
    }
   ],
   "source": [
    "r.lpushx('mylist','somevalue')"
   ]
  },
  {
   "cell_type": "code",
   "execution_count": 21,
   "id": "ed61b7e7-a699-4296-9eea-f89390445107",
   "metadata": {},
   "outputs": [
    {
     "data": {
      "text/plain": [
       "[b'somevalue', b'value_2', b'value_2', b'value_1', b'value_3', b'value_4']"
      ]
     },
     "execution_count": 21,
     "metadata": {},
     "output_type": "execute_result"
    }
   ],
   "source": [
    "r.lrange('mylist',0,-1)"
   ]
  },
  {
   "cell_type": "code",
   "execution_count": 22,
   "id": "8395a317-b88a-4a6a-9824-e695ff522c10",
   "metadata": {},
   "outputs": [
    {
     "data": {
      "text/plain": [
       "7"
      ]
     },
     "execution_count": 22,
     "metadata": {},
     "output_type": "execute_result"
    }
   ],
   "source": [
    "#linsert\n",
    "r.linsert('mylist',where='before',refvalue='value_1',value='sudheer') #where:before or after"
   ]
  },
  {
   "cell_type": "code",
   "execution_count": 23,
   "id": "bf5816cd-0394-496b-9e56-9353aae93508",
   "metadata": {},
   "outputs": [
    {
     "data": {
      "text/plain": [
       "[b'somevalue',\n",
       " b'value_2',\n",
       " b'value_2',\n",
       " b'sudheer',\n",
       " b'value_1',\n",
       " b'value_3',\n",
       " b'value_4']"
      ]
     },
     "execution_count": 23,
     "metadata": {},
     "output_type": "execute_result"
    }
   ],
   "source": [
    "r.lrange('mylist',0,-1)"
   ]
  },
  {
   "cell_type": "code",
   "execution_count": 24,
   "id": "a20fbcce-978f-4cb6-9aaf-631eafaa9197",
   "metadata": {},
   "outputs": [
    {
     "data": {
      "text/plain": [
       "8"
      ]
     },
     "execution_count": 24,
     "metadata": {},
     "output_type": "execute_result"
    }
   ],
   "source": [
    "r.linsert('mylist',where='after',refvalue='value_1',value='value_5')"
   ]
  },
  {
   "cell_type": "code",
   "execution_count": 25,
   "id": "1e1cf73e-f0fc-430b-93f1-6490d674608d",
   "metadata": {},
   "outputs": [
    {
     "data": {
      "text/plain": [
       "[b'somevalue',\n",
       " b'value_2',\n",
       " b'value_2',\n",
       " b'sudheer',\n",
       " b'value_1',\n",
       " b'value_5',\n",
       " b'value_3',\n",
       " b'value_4']"
      ]
     },
     "execution_count": 25,
     "metadata": {},
     "output_type": "execute_result"
    }
   ],
   "source": [
    "r.lrange('mylist',0,-1)"
   ]
  },
  {
   "cell_type": "code",
   "execution_count": 26,
   "id": "92a5b3a0-71f6-4a51-8724-35296ffc0d17",
   "metadata": {},
   "outputs": [
    {
     "data": {
      "text/plain": [
       "True"
      ]
     },
     "execution_count": 26,
     "metadata": {},
     "output_type": "execute_result"
    }
   ],
   "source": [
    "r.lset('mylist',index=0,value='value_6')\n",
    "#lset will modify or change the exsisitng list for a given index"
   ]
  },
  {
   "cell_type": "code",
   "execution_count": 27,
   "id": "6586d2c4-da28-4018-934b-abaa13ce797f",
   "metadata": {},
   "outputs": [
    {
     "name": "stdout",
     "output_type": "stream",
     "text": [
      "[b'value_6', b'value_2', b'value_2', b'sudheer', b'value_1', b'value_5', b'value_3', b'value_4']\n"
     ]
    }
   ],
   "source": [
    "print(r.lrange('mylist',0,-1))"
   ]
  },
  {
   "cell_type": "markdown",
   "id": "49a96b76-b3ef-4cc9-9155-dc33f959f1cf",
   "metadata": {},
   "source": [
    "### Remove commands\n",
    "-lop\n",
    "-rpop\n",
    "-lmpop\n",
    "-lrem"
   ]
  },
  {
   "cell_type": "code",
   "execution_count": 28,
   "id": "730c213c-2c31-4ab4-ad98-958c26a75775",
   "metadata": {},
   "outputs": [
    {
     "data": {
      "text/plain": [
       "b'value_6'"
      ]
     },
     "execution_count": 28,
     "metadata": {},
     "output_type": "execute_result"
    }
   ],
   "source": [
    "r.lpop('mylist')"
   ]
  },
  {
   "cell_type": "code",
   "execution_count": 29,
   "id": "30b8eb0e-22da-4d7d-82cc-5483a6ab6814",
   "metadata": {},
   "outputs": [
    {
     "name": "stdout",
     "output_type": "stream",
     "text": [
      "[b'value_2', b'value_2', b'sudheer', b'value_1', b'value_5', b'value_3', b'value_4']\n"
     ]
    }
   ],
   "source": [
    "print(r.lrange('mylist',0,-1))"
   ]
  },
  {
   "cell_type": "code",
   "execution_count": 30,
   "id": "3170cdcb-fafc-4430-a937-9d48bbb58b1a",
   "metadata": {},
   "outputs": [
    {
     "data": {
      "text/plain": [
       "b'value_4'"
      ]
     },
     "execution_count": 30,
     "metadata": {},
     "output_type": "execute_result"
    }
   ],
   "source": [
    "r.rpop('mylist')"
   ]
  },
  {
   "cell_type": "code",
   "execution_count": 31,
   "id": "60c7ca0e-2b11-4e27-89be-3b10d6ef35ae",
   "metadata": {},
   "outputs": [
    {
     "name": "stdout",
     "output_type": "stream",
     "text": [
      "[b'value_2', b'value_2', b'sudheer', b'value_1', b'value_5', b'value_3']\n"
     ]
    }
   ],
   "source": [
    "print(r.lrange('mylist',0,-1))"
   ]
  },
  {
   "cell_type": "code",
   "execution_count": 35,
   "id": "5bf527dd-55db-4d36-b298-1f2ab366fd3f",
   "metadata": {},
   "outputs": [
    {
     "data": {
      "text/plain": [
       "[b'value_2', b'value_2', b'value_1', b'value_5', b'value_3']"
      ]
     },
     "execution_count": 35,
     "metadata": {},
     "output_type": "execute_result"
    }
   ],
   "source": [
    " #lrem\n",
    "#it will remove 1st occurence of the value\n",
    "r.lrem('mylist',count=0,value='sudheer')\n",
    "r.lrange('mylist',0,-1)"
   ]
  },
  {
   "cell_type": "code",
   "execution_count": 37,
   "id": "c373ebf6-d2a8-4ade-9b10-34d29e3e5991",
   "metadata": {},
   "outputs": [
    {
     "name": "stdout",
     "output_type": "stream",
     "text": [
      "[b'ele1', b'ele2', b'ele3']\n"
     ]
    }
   ],
   "source": [
    "r.rpush('mylist1',*('ele1','ele2','ele3'))\n",
    "print(r.lrange('mylist1',0,-1))"
   ]
  },
  {
   "cell_type": "code",
   "execution_count": 38,
   "id": "91d517b3-c104-4fc0-af5b-847fd1c04c2b",
   "metadata": {},
   "outputs": [
    {
     "data": {
      "text/plain": [
       "1"
      ]
     },
     "execution_count": 38,
     "metadata": {},
     "output_type": "execute_result"
    }
   ],
   "source": [
    "r.delete('mylist1')"
   ]
  },
  {
   "cell_type": "code",
   "execution_count": 39,
   "id": "e685962e-d683-4b7b-a9de-cfd4b17e74f2",
   "metadata": {},
   "outputs": [
    {
     "name": "stdout",
     "output_type": "stream",
     "text": [
      "[]\n"
     ]
    }
   ],
   "source": [
    "print(r.lrange('mylist1',0,-1))"
   ]
  },
  {
   "cell_type": "markdown",
   "id": "76407463-9928-4955-a127-72439f9257cf",
   "metadata": {},
   "source": [
    "#### List Operation\n",
    "- LLEN\n",
    "- LPOS\n",
    "- LTRIM\n",
    "- LMOVE"
   ]
  },
  {
   "cell_type": "code",
   "execution_count": 40,
   "id": "e3b5872f-ba99-4366-94a7-ff1f08e98d93",
   "metadata": {},
   "outputs": [
    {
     "data": {
      "text/plain": [
       "8"
      ]
     },
     "execution_count": 40,
     "metadata": {},
     "output_type": "execute_result"
    }
   ],
   "source": [
    "## LLEN - number of elements in the list\n",
    "r.llen('mylist')"
   ]
  },
  {
   "cell_type": "code",
   "execution_count": 41,
   "id": "53039d2b-7034-4c71-bb2e-400f57bb5b9e",
   "metadata": {},
   "outputs": [
    {
     "data": {
      "text/plain": [
       "2"
      ]
     },
     "execution_count": 41,
     "metadata": {},
     "output_type": "execute_result"
    }
   ],
   "source": [
    "## LPOS - return the index position of the value in the list\n",
    "r.lpos('mylist',value='value_1')"
   ]
  },
  {
   "cell_type": "code",
   "execution_count": 42,
   "id": "5fc1af61-25fd-4429-a906-60b838c88bfc",
   "metadata": {},
   "outputs": [
    {
     "data": {
      "text/plain": [
       "True"
      ]
     },
     "execution_count": 42,
     "metadata": {},
     "output_type": "execute_result"
    }
   ],
   "source": [
    "##LTRIM - slice the list\n",
    "r.ltrim('mylist',start=0,end=2)"
   ]
  },
  {
   "cell_type": "code",
   "execution_count": 43,
   "id": "912c20c7-6b5e-45cc-8c7f-27688c4cd819",
   "metadata": {},
   "outputs": [
    {
     "data": {
      "text/plain": [
       "[b'value_2', b'value_2', b'value_1']"
      ]
     },
     "execution_count": 43,
     "metadata": {},
     "output_type": "execute_result"
    }
   ],
   "source": [
    "r.lrange('mylist',0,-1)"
   ]
  },
  {
   "cell_type": "code",
   "execution_count": 45,
   "id": "4fac7f09-2a2f-4bd9-aa9a-a59f8a7a2c34",
   "metadata": {},
   "outputs": [
    {
     "name": "stdout",
     "output_type": "stream",
     "text": [
      "[b'value_2', b'value_2', b'value_1']\n",
      "[b'ele1', b'ele2', b'ele3', b'ele1', b'ele2', b'ele3']\n"
     ]
    }
   ],
   "source": [
    "#lmove - \n",
    "print(r.lrange('mylist',0,-1))\n",
    "r.rpush('mylist1',*('ele1','ele2','ele3'))\n",
    "print(r.lrange('mylist1',0,-1))"
   ]
  },
  {
   "cell_type": "code",
   "execution_count": 46,
   "id": "74d357ba-f003-4bf8-82b0-73bfba9ca669",
   "metadata": {},
   "outputs": [
    {
     "data": {
      "text/plain": [
       "b'value_2'"
      ]
     },
     "execution_count": 46,
     "metadata": {},
     "output_type": "execute_result"
    }
   ],
   "source": [
    "r.lmove('mylist','mylist1',src='LEFT',dest='RIGHT')"
   ]
  },
  {
   "cell_type": "code",
   "execution_count": 48,
   "id": "d5183cb8-01a4-4ab0-b2b5-d18644169b59",
   "metadata": {},
   "outputs": [
    {
     "name": "stdout",
     "output_type": "stream",
     "text": [
      "[b'ele1', b'ele2', b'ele3', b'ele1', b'ele2', b'ele3', b'value_2']\n"
     ]
    }
   ],
   "source": [
    "print(r.lrange('mylist1',0,-1))"
   ]
  },
  {
   "cell_type": "code",
   "execution_count": null,
   "id": "fdb63e74-d794-4fb0-9f33-c1da6cc7d1a5",
   "metadata": {},
   "outputs": [],
   "source": []
  }
 ],
 "metadata": {
  "kernelspec": {
   "display_name": "Python 3 (ipykernel)",
   "language": "python",
   "name": "python3"
  },
  "language_info": {
   "codemirror_mode": {
    "name": "ipython",
    "version": 3
   },
   "file_extension": ".py",
   "mimetype": "text/x-python",
   "name": "python",
   "nbconvert_exporter": "python",
   "pygments_lexer": "ipython3",
   "version": "3.11.5"
  }
 },
 "nbformat": 4,
 "nbformat_minor": 5
}
