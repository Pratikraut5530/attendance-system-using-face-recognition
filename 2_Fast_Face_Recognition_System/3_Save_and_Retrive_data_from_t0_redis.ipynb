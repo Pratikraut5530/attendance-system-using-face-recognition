{
 "cells": [
  {
   "cell_type": "code",
   "execution_count": 3,
   "metadata": {},
   "outputs": [],
   "source": [
    "import numpy as np\n",
    "import pandas as pd\n",
    "import redis"
   ]
  },
  {
   "cell_type": "code",
   "execution_count": 4,
   "metadata": {},
   "outputs": [],
   "source": [
    "r = redis.StrictRedis(host=\"redis-13914.c322.us-east-1-2.ec2.cloud.redislabs.com\",\n",
    "                port=13914,\n",
    "                password='h9fng3OkGwuY1FxPHguTBZ8rVt6uCdrx'\n",
    "               )"
   ]
  },
  {
   "cell_type": "code",
   "execution_count": 5,
   "metadata": {},
   "outputs": [
    {
     "data": {
      "text/plain": [
       "True"
      ]
     },
     "execution_count": 5,
     "metadata": {},
     "output_type": "execute_result"
    }
   ],
   "source": [
    "r.ping()"
   ]
  },
  {
   "cell_type": "code",
   "execution_count": 6,
   "metadata": {},
   "outputs": [
    {
     "data": {
      "text/plain": [
       "[b'academy:register', b'KEY', b'MESSAGE', b'foo', b'mylist1', b'mylist']"
      ]
     },
     "execution_count": 6,
     "metadata": {},
     "output_type": "execute_result"
    }
   ],
   "source": [
    "r.keys()"
   ]
  },
  {
   "cell_type": "markdown",
   "metadata": {},
   "source": [
    "### Load the data(numpt zip)"
   ]
  },
  {
   "cell_type": "code",
   "execution_count": 7,
   "metadata": {},
   "outputs": [],
   "source": [
    "np_file = np.load('dataframe_students_teacher.npz',allow_pickle=True)\n",
    "x_values = np_file['arr_0']\n",
    "col_names = np_file['arr_1']\n",
    "\n",
    "df = pd.DataFrame(x_values,columns=col_names)"
   ]
  },
  {
   "cell_type": "code",
   "execution_count": 8,
   "metadata": {},
   "outputs": [
    {
     "data": {
      "text/html": [
       "<div>\n",
       "<style scoped>\n",
       "    .dataframe tbody tr th:only-of-type {\n",
       "        vertical-align: middle;\n",
       "    }\n",
       "\n",
       "    .dataframe tbody tr th {\n",
       "        vertical-align: top;\n",
       "    }\n",
       "\n",
       "    .dataframe thead th {\n",
       "        text-align: right;\n",
       "    }\n",
       "</style>\n",
       "<table border=\"1\" class=\"dataframe\">\n",
       "  <thead>\n",
       "    <tr style=\"text-align: right;\">\n",
       "      <th></th>\n",
       "      <th>Name</th>\n",
       "      <th>Role</th>\n",
       "      <th>Facial Features</th>\n",
       "    </tr>\n",
       "  </thead>\n",
       "  <tbody>\n",
       "    <tr>\n",
       "      <th>0</th>\n",
       "      <td>Angelina Jolie</td>\n",
       "      <td>Student</td>\n",
       "      <td>[0.43242025, 1.0748498, -0.12862365, -1.833291...</td>\n",
       "    </tr>\n",
       "    <tr>\n",
       "      <th>1</th>\n",
       "      <td>Barack Obama</td>\n",
       "      <td>Teacher</td>\n",
       "      <td>[0.9485809, -0.5584051, 0.094820715, -1.279659...</td>\n",
       "    </tr>\n",
       "    <tr>\n",
       "      <th>2</th>\n",
       "      <td>Chris Evans</td>\n",
       "      <td>Student</td>\n",
       "      <td>[0.7201714, -1.4684148, -0.7781253, -1.4601073...</td>\n",
       "    </tr>\n",
       "    <tr>\n",
       "      <th>3</th>\n",
       "      <td>Morgan Freeman</td>\n",
       "      <td>Teacher</td>\n",
       "      <td>[0.48535094, -0.6192554, -0.4069932, 1.0687788...</td>\n",
       "    </tr>\n",
       "    <tr>\n",
       "      <th>4</th>\n",
       "      <td>Scarlett Johansson</td>\n",
       "      <td>Student</td>\n",
       "      <td>[0.19131956, -0.48843804, -1.690233, 0.4423967...</td>\n",
       "    </tr>\n",
       "  </tbody>\n",
       "</table>\n",
       "</div>"
      ],
      "text/plain": [
       "                 Name     Role  \\\n",
       "0      Angelina Jolie  Student   \n",
       "1        Barack Obama  Teacher   \n",
       "2         Chris Evans  Student   \n",
       "3      Morgan Freeman  Teacher   \n",
       "4  Scarlett Johansson  Student   \n",
       "\n",
       "                                     Facial Features  \n",
       "0  [0.43242025, 1.0748498, -0.12862365, -1.833291...  \n",
       "1  [0.9485809, -0.5584051, 0.094820715, -1.279659...  \n",
       "2  [0.7201714, -1.4684148, -0.7781253, -1.4601073...  \n",
       "3  [0.48535094, -0.6192554, -0.4069932, 1.0687788...  \n",
       "4  [0.19131956, -0.48843804, -1.690233, 0.4423967...  "
      ]
     },
     "execution_count": 8,
     "metadata": {},
     "output_type": "execute_result"
    }
   ],
   "source": [
    "df"
   ]
  },
  {
   "cell_type": "code",
   "execution_count": 9,
   "metadata": {},
   "outputs": [
    {
     "data": {
      "text/html": [
       "<div>\n",
       "<style scoped>\n",
       "    .dataframe tbody tr th:only-of-type {\n",
       "        vertical-align: middle;\n",
       "    }\n",
       "\n",
       "    .dataframe tbody tr th {\n",
       "        vertical-align: top;\n",
       "    }\n",
       "\n",
       "    .dataframe thead th {\n",
       "        text-align: right;\n",
       "    }\n",
       "</style>\n",
       "<table border=\"1\" class=\"dataframe\">\n",
       "  <thead>\n",
       "    <tr style=\"text-align: right;\">\n",
       "      <th></th>\n",
       "      <th>Name</th>\n",
       "      <th>Role</th>\n",
       "      <th>Facial Features</th>\n",
       "      <th>name_role</th>\n",
       "    </tr>\n",
       "  </thead>\n",
       "  <tbody>\n",
       "    <tr>\n",
       "      <th>0</th>\n",
       "      <td>Angelina Jolie</td>\n",
       "      <td>Student</td>\n",
       "      <td>[0.43242025, 1.0748498, -0.12862365, -1.833291...</td>\n",
       "      <td>Angelina Jolie@Student</td>\n",
       "    </tr>\n",
       "    <tr>\n",
       "      <th>1</th>\n",
       "      <td>Barack Obama</td>\n",
       "      <td>Teacher</td>\n",
       "      <td>[0.9485809, -0.5584051, 0.094820715, -1.279659...</td>\n",
       "      <td>Barack Obama@Teacher</td>\n",
       "    </tr>\n",
       "    <tr>\n",
       "      <th>2</th>\n",
       "      <td>Chris Evans</td>\n",
       "      <td>Student</td>\n",
       "      <td>[0.7201714, -1.4684148, -0.7781253, -1.4601073...</td>\n",
       "      <td>Chris Evans@Student</td>\n",
       "    </tr>\n",
       "    <tr>\n",
       "      <th>3</th>\n",
       "      <td>Morgan Freeman</td>\n",
       "      <td>Teacher</td>\n",
       "      <td>[0.48535094, -0.6192554, -0.4069932, 1.0687788...</td>\n",
       "      <td>Morgan Freeman@Teacher</td>\n",
       "    </tr>\n",
       "    <tr>\n",
       "      <th>4</th>\n",
       "      <td>Scarlett Johansson</td>\n",
       "      <td>Student</td>\n",
       "      <td>[0.19131956, -0.48843804, -1.690233, 0.4423967...</td>\n",
       "      <td>Scarlett Johansson@Student</td>\n",
       "    </tr>\n",
       "  </tbody>\n",
       "</table>\n",
       "</div>"
      ],
      "text/plain": [
       "                 Name     Role  \\\n",
       "0      Angelina Jolie  Student   \n",
       "1        Barack Obama  Teacher   \n",
       "2         Chris Evans  Student   \n",
       "3      Morgan Freeman  Teacher   \n",
       "4  Scarlett Johansson  Student   \n",
       "\n",
       "                                     Facial Features  \\\n",
       "0  [0.43242025, 1.0748498, -0.12862365, -1.833291...   \n",
       "1  [0.9485809, -0.5584051, 0.094820715, -1.279659...   \n",
       "2  [0.7201714, -1.4684148, -0.7781253, -1.4601073...   \n",
       "3  [0.48535094, -0.6192554, -0.4069932, 1.0687788...   \n",
       "4  [0.19131956, -0.48843804, -1.690233, 0.4423967...   \n",
       "\n",
       "                    name_role  \n",
       "0      Angelina Jolie@Student  \n",
       "1        Barack Obama@Teacher  \n",
       "2         Chris Evans@Student  \n",
       "3      Morgan Freeman@Teacher  \n",
       "4  Scarlett Johansson@Student  "
      ]
     },
     "execution_count": 9,
     "metadata": {},
     "output_type": "execute_result"
    }
   ],
   "source": [
    "df['name_role'] = df['Name']+'@'+df['Role']\n",
    "df"
   ]
  },
  {
   "cell_type": "code",
   "execution_count": 10,
   "metadata": {},
   "outputs": [
    {
     "data": {
      "text/plain": [
       "5"
      ]
     },
     "execution_count": 10,
     "metadata": {},
     "output_type": "execute_result"
    }
   ],
   "source": [
    "records = df[['name_role','Facial Features']].to_dict(orient='records')\n",
    "len(records)"
   ]
  },
  {
   "cell_type": "markdown",
   "metadata": {},
   "source": [
    "### Save data in Redis\n",
    "- redis hashes\n",
    "- keyname = 'academy.register'"
   ]
  },
  {
   "cell_type": "code",
   "execution_count": 11,
   "metadata": {},
   "outputs": [],
   "source": [
    "for record in records:\n",
    "    name_role = record['name_role']\n",
    "    vector = record['Facial Features']\n",
    "    \n",
    "    ## convert numpy Array\n",
    "    vector_bytes = vector.tobytes()\n",
    "    r.hset(name='academy:register',key=name_role,value=vector_bytes)"
   ]
  },
  {
   "cell_type": "code",
   "execution_count": 12,
   "metadata": {},
   "outputs": [
    {
     "data": {
      "text/plain": [
       "[b'academy:register', b'KEY', b'MESSAGE', b'foo', b'mylist1', b'mylist']"
      ]
     },
     "execution_count": 12,
     "metadata": {},
     "output_type": "execute_result"
    }
   ],
   "source": [
    "r.keys()"
   ]
  },
  {
   "cell_type": "markdown",
   "metadata": {},
   "source": [
    "### Retrive Records from Redis"
   ]
  },
  {
   "cell_type": "code",
   "execution_count": 13,
   "metadata": {},
   "outputs": [
    {
     "data": {
      "text/plain": [
       "b'Angelina Jolie@Student'        b'0f\\xdd>\\xae\\x94\\x89?\\xeb\\xb5\\x03\\xbeN\\xa9\\xe...\n",
       "b'Pratik Raut@Student'           b'1\\x89\\x9f\\xbf\\x03{\\xef\\xbe\\xa4\\xb4\\xcf>\\xa9^...\n",
       "b'Barack Obama@Teacher'          b'3\\xd6r?\\xa3\\xf3\\x0e\\xbf]1\\xc2=\\xde\\xcb\\xa3\\x...\n",
       "b'Chris Evans@Student'           b'\\']8?\\x04\\xf5\\xbb\\xbf83G\\xbf\\xcc\\xe4\\xba\\xbf...\n",
       "b'Morgan Freeman@Teacher'        b'\\xeb\\x7f\\xf8>\\x86\\x87\\x1e\\xbfja\\xd0\\xbe\\xbe\\...\n",
       "b'Scarlett Johansson@Student'    b'F\\xe9C>\\x8d\\x14\\xfa\\xbe\\x8eY\\xd8\\xbf\\xd3\\x81...\n",
       "dtype: object"
      ]
     },
     "execution_count": 13,
     "metadata": {},
     "output_type": "execute_result"
    }
   ],
   "source": [
    "retrive_dict = r.hgetall(name='academy:register')\n",
    "retrive_series = pd.Series(retrive_dict)\n",
    "retrive_series"
   ]
  },
  {
   "cell_type": "code",
   "execution_count": 14,
   "metadata": {},
   "outputs": [],
   "source": [
    "#np.framebuffer(retriving_series[b'Morgan Freeman@Teacger'],dtype.float32).shape\n",
    "retrive_series = retrive_series.apply(lambda x: np.frombuffer(x,dtype=np.float32))\n",
    "index = retrive_series.index\n",
    "index = list(map(lambda x: x.decode(),index))"
   ]
  },
  {
   "cell_type": "code",
   "execution_count": 15,
   "metadata": {},
   "outputs": [],
   "source": [
    "retrive_series.index = index"
   ]
  },
  {
   "cell_type": "code",
   "execution_count": 16,
   "metadata": {},
   "outputs": [
    {
     "data": {
      "text/html": [
       "<div>\n",
       "<style scoped>\n",
       "    .dataframe tbody tr th:only-of-type {\n",
       "        vertical-align: middle;\n",
       "    }\n",
       "\n",
       "    .dataframe tbody tr th {\n",
       "        vertical-align: top;\n",
       "    }\n",
       "\n",
       "    .dataframe thead th {\n",
       "        text-align: right;\n",
       "    }\n",
       "</style>\n",
       "<table border=\"1\" class=\"dataframe\">\n",
       "  <thead>\n",
       "    <tr style=\"text-align: right;\">\n",
       "      <th></th>\n",
       "      <th>name_role</th>\n",
       "      <th>facial_features</th>\n",
       "    </tr>\n",
       "  </thead>\n",
       "  <tbody>\n",
       "    <tr>\n",
       "      <th>0</th>\n",
       "      <td>Angelina Jolie@Student</td>\n",
       "      <td>[0.43242025, 1.0748498, -0.12862365, -1.833291...</td>\n",
       "    </tr>\n",
       "    <tr>\n",
       "      <th>1</th>\n",
       "      <td>Pratik Raut@Student</td>\n",
       "      <td>[-1.2463742, -0.46773538, 0.40567505, 2.755777...</td>\n",
       "    </tr>\n",
       "    <tr>\n",
       "      <th>2</th>\n",
       "      <td>Barack Obama@Teacher</td>\n",
       "      <td>[0.9485809, -0.5584051, 0.094820715, -1.279659...</td>\n",
       "    </tr>\n",
       "    <tr>\n",
       "      <th>3</th>\n",
       "      <td>Chris Evans@Student</td>\n",
       "      <td>[0.7201714, -1.4684148, -0.7781253, -1.4601073...</td>\n",
       "    </tr>\n",
       "    <tr>\n",
       "      <th>4</th>\n",
       "      <td>Morgan Freeman@Teacher</td>\n",
       "      <td>[0.48535094, -0.6192554, -0.4069932, 1.0687788...</td>\n",
       "    </tr>\n",
       "    <tr>\n",
       "      <th>5</th>\n",
       "      <td>Scarlett Johansson@Student</td>\n",
       "      <td>[0.19131956, -0.48843804, -1.690233, 0.4423967...</td>\n",
       "    </tr>\n",
       "  </tbody>\n",
       "</table>\n",
       "</div>"
      ],
      "text/plain": [
       "                    name_role  \\\n",
       "0      Angelina Jolie@Student   \n",
       "1         Pratik Raut@Student   \n",
       "2        Barack Obama@Teacher   \n",
       "3         Chris Evans@Student   \n",
       "4      Morgan Freeman@Teacher   \n",
       "5  Scarlett Johansson@Student   \n",
       "\n",
       "                                     facial_features  \n",
       "0  [0.43242025, 1.0748498, -0.12862365, -1.833291...  \n",
       "1  [-1.2463742, -0.46773538, 0.40567505, 2.755777...  \n",
       "2  [0.9485809, -0.5584051, 0.094820715, -1.279659...  \n",
       "3  [0.7201714, -1.4684148, -0.7781253, -1.4601073...  \n",
       "4  [0.48535094, -0.6192554, -0.4069932, 1.0687788...  \n",
       "5  [0.19131956, -0.48843804, -1.690233, 0.4423967...  "
      ]
     },
     "execution_count": 16,
     "metadata": {},
     "output_type": "execute_result"
    }
   ],
   "source": [
    "retrive_df = retrive_series.to_frame().reset_index()\n",
    "retrive_df.columns = ['name_role','facial_features']\n",
    "retrive_df"
   ]
  },
  {
   "cell_type": "markdown",
   "metadata": {},
   "source": [
    "### Registration Form"
   ]
  },
  {
   "cell_type": "code",
   "execution_count": 17,
   "metadata": {},
   "outputs": [],
   "source": [
    "import cv2\n",
    "from insightface.app import FaceAnalysis"
   ]
  },
  {
   "cell_type": "code",
   "execution_count": 18,
   "metadata": {},
   "outputs": [
    {
     "name": "stdout",
     "output_type": "stream",
     "text": [
      "Applied providers: ['CPUExecutionProvider'], with options: {'CPUExecutionProvider': {}}\n",
      "find model: insightface_model\\models\\models\\buffalo_sc\\det_500m.onnx detection [1, 3, '?', '?'] 127.5 128.0\n",
      "Applied providers: ['CPUExecutionProvider'], with options: {'CPUExecutionProvider': {}}\n",
      "find model: insightface_model\\models\\models\\buffalo_sc\\w600k_mbf.onnx recognition ['None', 3, 112, 112] 127.5 127.5\n",
      "set det-size: (640, 640)\n"
     ]
    }
   ],
   "source": [
    "## configure face analysis\n",
    "faceapp = FaceAnalysis(name='buffalo_sc',\n",
    "                       root='insightface_model\\models',\n",
    "                       providers=['CPUExecutionProvider'])\n",
    "\n",
    "faceapp.prepare(ctx_id=0,det_size=(640,640),det_thresh=0.5)\n",
    "#warning dont set det_thresh < 0.3"
   ]
  },
  {
   "cell_type": "markdown",
   "metadata": {},
   "source": [
    "### Step1: Collect Person and Role"
   ]
  },
  {
   "cell_type": "code",
   "execution_count": 19,
   "metadata": {},
   "outputs": [],
   "source": [
    "#python input\n",
    "person_name = input('Enter your name: ')\n",
    "trails =3\n",
    "for i in range(trails):\n",
    "    role = input(\"\"\"\n",
    "                Please choose\n",
    "                1.Student\n",
    "                2.Teacher\n",
    "                \n",
    "                Enter the number either 1 or 2\n",
    "                \"\"\")\n",
    "\n",
    "    if role in ('1','2'):\n",
    "        if role=='1':\n",
    "            role = 'Student'\n",
    "        else:\n",
    "            role = 'Teacher'\n",
    "\n",
    "        break\n",
    "\n",
    "    else:\n",
    "        print('Invalid entry try again')\n",
    "        if i==3:\n",
    "            print('Exceeds maximum trails')\n",
    "\n",
    "key = person_name+'@'+role\n",
    "print('Your name = ',person_name)\n",
    "print('Your role = ',role)\n",
    "print('KEy = ',key)\n"
   ]
  },
  {
   "cell_type": "code",
   "execution_count": null,
   "metadata": {},
   "outputs": [
    {
     "ename": "NameError",
     "evalue": "name 'person_name' is not defined",
     "output_type": "error",
     "traceback": [
      "\u001b[1;31m---------------------------------------------------------------------------\u001b[0m",
      "\u001b[1;31mNameError\u001b[0m                                 Traceback (most recent call last)",
      "\u001b[1;32md:\\Attendence-System-Using-Face-Recognition\\2_Fast_Face_Recognition_System\\3_Save_and_Retrive_data_from_t0_redis.ipynb Cell 23\u001b[0m line \u001b[0;36m1\n\u001b[1;32m----> <a href='vscode-notebook-cell:/d%3A/Attendence-System-Using-Face-Recognition/2_Fast_Face_Recognition_System/3_Save_and_Retrive_data_from_t0_redis.ipynb#X31sZmlsZQ%3D%3D?line=0'>1</a>\u001b[0m person_name  ,role\n",
      "\u001b[1;31mNameError\u001b[0m: name 'person_name' is not defined"
     ]
    }
   ],
   "source": [
    "person_name  ,role"
   ]
  },
  {
   "cell_type": "markdown",
   "metadata": {},
   "source": [
    "### Collect Samples"
   ]
  },
  {
   "cell_type": "code",
   "execution_count": null,
   "metadata": {},
   "outputs": [
    {
     "ename": "NameError",
     "evalue": "name 'cv2' is not defined",
     "output_type": "error",
     "traceback": [
      "\u001b[1;31m---------------------------------------------------------------------------\u001b[0m",
      "\u001b[1;31mNameError\u001b[0m                                 Traceback (most recent call last)",
      "\u001b[1;32md:\\Attendence-System-Using-Face-Recognition\\2_Fast_Face_Recognition_System\\3_Save_and_Retrive_data_from_t0_redis.ipynb Cell 25\u001b[0m line \u001b[0;36m1\n\u001b[1;32m----> <a href='vscode-notebook-cell:/d%3A/Attendence-System-Using-Face-Recognition/2_Fast_Face_Recognition_System/3_Save_and_Retrive_data_from_t0_redis.ipynb#X33sZmlsZQ%3D%3D?line=0'>1</a>\u001b[0m cap \u001b[39m=\u001b[39m  cv2\u001b[39m.\u001b[39mVideoCapture(\u001b[39m0\u001b[39m) \u001b[39m## 0 default camera 1 external camera\u001b[39;00m\n\u001b[0;32m      <a href='vscode-notebook-cell:/d%3A/Attendence-System-Using-Face-Recognition/2_Fast_Face_Recognition_System/3_Save_and_Retrive_data_from_t0_redis.ipynb#X33sZmlsZQ%3D%3D?line=1'>2</a>\u001b[0m face_embeddings \u001b[39m=\u001b[39m []\n\u001b[0;32m      <a href='vscode-notebook-cell:/d%3A/Attendence-System-Using-Face-Recognition/2_Fast_Face_Recognition_System/3_Save_and_Retrive_data_from_t0_redis.ipynb#X33sZmlsZQ%3D%3D?line=2'>3</a>\u001b[0m sample \u001b[39m=\u001b[39m \u001b[39m0\u001b[39m\n",
      "\u001b[1;31mNameError\u001b[0m: name 'cv2' is not defined"
     ]
    }
   ],
   "source": [
    "cap =  cv2.VideoCapture(0) ## 0 default camera 1 external camera\n",
    "face_embeddings = []\n",
    "sample = 0\n",
    "\n",
    "while True:\n",
    "    ret , frame = cap.read()\n",
    "    if ret == False:\n",
    "        print('Unable to read camera')\n",
    "        break\n",
    "\n",
    "    #get results from insightface model\n",
    "    results = faceapp.get(frame,max_num=1)\n",
    "    for res in results:\n",
    "        sample += 1\n",
    "        x1,y1,x2,y2 = res['bbox'].astype(int)\n",
    "        cv2.rectangle(frame,(x1,y1),(x2,y2),(0,255,0),1)\n",
    "\n",
    "        #facial features\n",
    "        embeddings = res['embedding']\n",
    "        face_embeddings.append(embeddings)\n",
    "\n",
    "    if sample>=200:\n",
    "        break\n",
    "\n",
    "    cv2.imshow('frame',frame)\n",
    "    if cv2.waitKey(1) == ord('q'): #this will trigger only when I press letter q (lowercase q) in my keyboard\n",
    "        break\n",
    "\n",
    "cap.release()\n",
    "cv2.destroyAllWindows()"
   ]
  },
  {
   "cell_type": "code",
   "execution_count": null,
   "metadata": {},
   "outputs": [
    {
     "data": {
      "text/plain": [
       "200"
      ]
     },
     "execution_count": 26,
     "metadata": {},
     "output_type": "execute_result"
    }
   ],
   "source": [
    "len(face_embeddings)"
   ]
  },
  {
   "cell_type": "markdown",
   "metadata": {},
   "source": [
    "### Optimize Data & Save Data in Redis Database"
   ]
  },
  {
   "cell_type": "code",
   "execution_count": null,
   "metadata": {},
   "outputs": [
    {
     "data": {
      "text/plain": [
       "(512,)"
      ]
     },
     "execution_count": 28,
     "metadata": {},
     "output_type": "execute_result"
    }
   ],
   "source": [
    "x_mean = np.asarray(face_embeddings).mean(axis=0)\n",
    "x_mean.shape"
   ]
  },
  {
   "cell_type": "code",
   "execution_count": null,
   "metadata": {},
   "outputs": [],
   "source": [
    "#convert into bytes\n",
    "x_mean_bytes = x_mean.tobytes()"
   ]
  },
  {
   "cell_type": "code",
   "execution_count": null,
   "metadata": {},
   "outputs": [
    {
     "data": {
      "text/plain": [
       "1"
      ]
     },
     "execution_count": 30,
     "metadata": {},
     "output_type": "execute_result"
    }
   ],
   "source": [
    "#save key and facial bytes into redis database\n",
    "r.hset(name='academy:register',key=key,value=x_mean_bytes)"
   ]
  },
  {
   "cell_type": "code",
   "execution_count": null,
   "metadata": {},
   "outputs": [],
   "source": []
  }
 ],
 "metadata": {
  "kernelspec": {
   "display_name": "attendence_system",
   "language": "python",
   "name": "python3"
  },
  "language_info": {
   "codemirror_mode": {
    "name": "ipython",
    "version": 3
   },
   "file_extension": ".py",
   "mimetype": "text/x-python",
   "name": "python",
   "nbconvert_exporter": "python",
   "pygments_lexer": "ipython3",
   "version": "3.11.5"
  }
 },
 "nbformat": 4,
 "nbformat_minor": 2
}
